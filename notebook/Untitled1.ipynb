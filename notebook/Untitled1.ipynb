{
 "cells": [
  {
   "cell_type": "code",
   "execution_count": 1,
   "id": "6cea7bba-bfb1-4303-9388-a3c5b3b43caa",
   "metadata": {},
   "outputs": [
    {
     "data": {
      "text/plain": [
       "True"
      ]
     },
     "execution_count": 1,
     "metadata": {},
     "output_type": "execute_result"
    }
   ],
   "source": [
    "# Embedding Demo\n",
    "import os\n",
    "from dotenv import load_dotenv\n",
    "from talkie.rag.embedding import EmbeddingManager\n",
    "\n",
    "# Load environment variables (make sure you have .env file with OPENAI_API_KEY)\n",
    "load_dotenv()\n"
   ]
  },
  {
   "cell_type": "code",
   "execution_count": 2,
   "id": "85960dfa-c481-464a-9ad3-ba49087f5b3c",
   "metadata": {},
   "outputs": [
    {
     "name": "stderr",
     "output_type": "stream",
     "text": [
      "2024-11-14 18:59:57,514 - talkie - INFO - Successfully added 3 documents to collection\n"
     ]
    },
    {
     "name": "stdout",
     "output_type": "stream",
     "text": [
      "Query results: {'ids': [['doc2', 'doc3']], 'embeddings': None, 'documents': [['Machine learning is a subset of artificial intelligence', 'Python is a versatile programming language']], 'uris': None, 'data': None, 'metadatas': [[{'source': 'sample2'}, {'source': 'sample3'}]], 'distances': [[0.291517972946167, 0.4813292324542999]], 'included': [<IncludeEnum.distances: 'distances'>, <IncludeEnum.documents: 'documents'>, <IncludeEnum.metadatas: 'metadatas'>]}\n",
      "Retrieved document: {'ids': ['doc1'], 'embeddings': None, 'documents': ['The quick brown fox jumps over the lazy dog'], 'uris': None, 'data': None, 'metadatas': [{'source': 'sample1'}], 'included': [<IncludeEnum.documents: 'documents'>, <IncludeEnum.metadatas: 'metadatas'>]}\n"
     ]
    },
    {
     "name": "stderr",
     "output_type": "stream",
     "text": [
      "2024-11-14 18:59:58,737 - talkie - INFO - Successfully updated 1 documents\n",
      "2024-11-14 18:59:58,742 - talkie - INFO - Successfully deleted 1 documents\n"
     ]
    }
   ],
   "source": [
    "\n",
    "# Initialize the embedding manager\n",
    "manager = EmbeddingManager(\n",
    "    collection_name=\"demo_collection\",\n",
    "    openai_api_key=os.getenv(\"OPENAI_API_KEY\"),\n",
    "    persist_directory=\"./chroma_db\"  # This will store the database in your notebook directory\n",
    ")\n",
    "\n",
    "# Add some sample documents\n",
    "texts = [\n",
    "    \"The quick brown fox jumps over the lazy dog\",\n",
    "    \"Machine learning is a subset of artificial intelligence\",\n",
    "    \"Python is a versatile programming language\"\n",
    "]\n",
    "ids = [\"doc1\", \"doc2\", \"doc3\"]\n",
    "metadata = [\n",
    "    {\"source\": \"sample1\"},\n",
    "    {\"source\": \"sample2\"},\n",
    "    {\"source\": \"sample3\"}\n",
    "]\n",
    "\n",
    "# Add documents to the collection\n",
    "manager.add(texts=texts, ids=ids, metadata=metadata)\n",
    "\n",
    "# Query similar documents\n",
    "query = \"Tell me about AI\"\n",
    "results = manager.query(query_text=query, n_results=2)\n",
    "print(\"Query results:\", results)\n",
    "\n",
    "# Get specific documents\n",
    "docs = manager.get(ids=[\"doc1\"])\n",
    "print(\"Retrieved document:\", docs)\n",
    "\n",
    "# Update a document\n",
    "manager.update(\n",
    "    texts=[\"Updated: The quick brown fox is very quick\"],\n",
    "    ids=[\"doc1\"]\n",
    ")\n",
    "\n",
    "# Delete a document\n",
    "manager.delete(ids=[\"doc3\"])"
   ]
  },
  {
   "cell_type": "code",
   "execution_count": null,
   "id": "6936f7d5-69ea-4f69-9d9f-d3de50d66061",
   "metadata": {},
   "outputs": [],
   "source": []
  }
 ],
 "metadata": {
  "kernelspec": {
   "display_name": "Python 3 (ipykernel)",
   "language": "python",
   "name": "python3"
  },
  "language_info": {
   "codemirror_mode": {
    "name": "ipython",
    "version": 3
   },
   "file_extension": ".py",
   "mimetype": "text/x-python",
   "name": "python",
   "nbconvert_exporter": "python",
   "pygments_lexer": "ipython3",
   "version": "3.12.7"
  }
 },
 "nbformat": 4,
 "nbformat_minor": 5
}
