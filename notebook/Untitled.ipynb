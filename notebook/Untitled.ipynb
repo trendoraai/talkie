{
 "cells": [
  {
   "cell_type": "code",
   "execution_count": 1,
   "id": "bcedee4c-2a4b-478e-8901-ff81c975ae02",
   "metadata": {},
   "outputs": [
    {
     "name": "stdout",
     "output_type": "stream",
     "text": [
      "/Users/pb/.pyenv/versions/talkie/bin/python\n"
     ]
    }
   ],
   "source": [
    "!pip install "
   ]
  },
  {
   "cell_type": "code",
   "execution_count": 2,
   "id": "49484932-5ebc-42fa-a997-9778262415bc",
   "metadata": {},
   "outputs": [],
   "source": [
    "file_to_embed = \"../programming/something.md\""
   ]
  },
  {
   "cell_type": "code",
   "execution_count": 18,
   "id": "79417167-8e3b-4339-afe7-fe9f311c3fa6",
   "metadata": {},
   "outputs": [],
   "source": [
    "from openai import OpenAI\n",
    "from dotenv import load_dotenv\n",
    "import os\n",
    "\n",
    "from pprint import pprint"
   ]
  },
  {
   "cell_type": "code",
   "execution_count": 8,
   "id": "6b6996c3-6bf9-450b-b415-6620563ef500",
   "metadata": {},
   "outputs": [],
   "source": [
    "load_dotenv()\n",
    "openai_api_key = os.getenv(\"OPENAI_API_KEY\")\n",
    "client = OpenAI(api_key=openai_api_key)"
   ]
  },
  {
   "cell_type": "code",
   "execution_count": 49,
   "id": "a61a0826-0bdd-4fdc-8687-666d3e0924a8",
   "metadata": {},
   "outputs": [],
   "source": [
    "things = [\"banana\", \"apple\", \"cat\", \"dog\", \"orange\", \"vampire\", \"tiger\", \"juice\", \"blood\"]"
   ]
  },
  {
   "cell_type": "code",
   "execution_count": 50,
   "id": "f1963e19-1dc9-461b-9665-b56f9d1da202",
   "metadata": {},
   "outputs": [],
   "source": [
    "response = client.embeddings.create(model=\"text-embedding-3-small\", input=things)\n",
    "response_dict = response.model_dump()"
   ]
  },
  {
   "cell_type": "code",
   "execution_count": 21,
   "id": "7e51dd28-85dd-4b5a-9c25-faf214c45d1c",
   "metadata": {},
   "outputs": [
    {
     "name": "stdout",
     "output_type": "stream",
     "text": [
      "{'data': [{'embedding': [...], 'index': 0, 'object': 'embedding'},\n",
      "          {'embedding': [...], 'index': 1, 'object': 'embedding'}],\n",
      " 'model': 'text-embedding-3-small',\n",
      " 'object': 'list',\n",
      " 'usage': {'prompt_tokens': 3, 'total_tokens': 3}}\n"
     ]
    }
   ],
   "source": [
    "pprint(response_dict, compact=True, depth=3)"
   ]
  },
  {
   "cell_type": "code",
   "execution_count": 22,
   "id": "f25c6447-aa33-44ed-9ccd-1a6bb75f0d8d",
   "metadata": {},
   "outputs": [
    {
     "data": {
      "text/plain": [
       "1536"
      ]
     },
     "execution_count": 22,
     "metadata": {},
     "output_type": "execute_result"
    }
   ],
   "source": [
    "len(response_dict['data'][0]['embedding'])"
   ]
  },
  {
   "cell_type": "code",
   "execution_count": 24,
   "id": "35085cc2-7a75-42ce-87f8-1a9b7f53438b",
   "metadata": {},
   "outputs": [],
   "source": [
    "from sklearn.manifold import TSNE"
   ]
  },
  {
   "cell_type": "code",
   "execution_count": 25,
   "id": "3f05e667-05cd-437d-b2a0-b32390207c8a",
   "metadata": {},
   "outputs": [],
   "source": [
    "import numpy as np"
   ]
  },
  {
   "cell_type": "code",
   "execution_count": 51,
   "id": "ff4eeba3-7330-469d-be18-18af3b007e8d",
   "metadata": {},
   "outputs": [],
   "source": [
    "embeddings = [x['embedding'] for x in response_dict['data']]"
   ]
  },
  {
   "cell_type": "code",
   "execution_count": 52,
   "id": "60b07bbb-5a38-4a1e-b56c-f73dba53f909",
   "metadata": {},
   "outputs": [],
   "source": [
    "tsne = TSNE(n_components=2, perplexity=2)\n",
    "embeddings_2d = tsne.fit_transform(np.array(embeddings))"
   ]
  },
  {
   "cell_type": "code",
   "execution_count": 53,
   "id": "d3fd6bd7-eb15-459c-8c29-a117423855ff",
   "metadata": {},
   "outputs": [
    {
     "data": {
      "image/png": "[encoded data removed]",
      "text/plain": [
       "<Figure size 640x480 with 1 Axes>"
      ]
     },
     "metadata": {},
     "output_type": "display_data"
    }
   ],
   "source": [
    "import matplotlib.pyplot as plt\n",
    "plt.scatter(embeddings_2d[:, 0], embeddings_2d[:, 1])\n",
    "\n",
    "for i, topic in enumerate(things):\n",
    "    plt.annotate(topic, (embeddings_2d[i, 0], embeddings_2d[i, 1]))\n",
    "\n",
    "plt.show()"
   ]
  },
  {
   "cell_type": "code",
   "execution_count": 54,
   "id": "cc2a744f-d3c3-444b-b9f5-fdb5e1c12143",
   "metadata": {},
   "outputs": [],
   "source": [
    "def create_embeddings(things):\n",
    "    response = client.embeddings.create(model=\"text-embedding-3-small\", input=things)\n",
    "    response_dict = response.model_dump()\n",
    "    embeddings = [x['embedding'] for x in response_dict['data']]\n",
    "    return embeddings\n",
    "    "
   ]
  },
  {
   "cell_type": "code",
   "execution_count": 76,
   "id": "49200478-d19d-443b-a14b-891c2d2602b4",
   "metadata": {},
   "outputs": [
    {
     "name": "stdout",
     "output_type": "stream",
     "text": [
      "5\n",
      "vampire\n"
     ]
    }
   ],
   "source": [
    "from scipy.spatial import distance\n",
    "\n",
    "search_text = \"batman\"\n",
    "search_embedding = create_embeddings(search_text)[0]\n",
    "\n",
    "distances = []\n",
    "for single_embedding in embeddings:\n",
    "    dist = distance.cosine(search_embedding, single_embedding)\n",
    "    distances.append(dist)\n",
    "\n",
    "min_dist_ind = np.argmin(distances)\n",
    "print(min_dist_ind)\n",
    "print(things[min_dist_ind])"
   ]
  },
  {
   "cell_type": "code",
   "execution_count": 77,
   "id": "c4a4cfc0-e3fe-427d-9c34-ad32343269d1",
   "metadata": {
    "scrolled": true
   },
   "outputs": [],
   "source": [
    "def find_n_closest(query_vector, embeddings, n=3):\n",
    "    distances = []\n",
    "    for index, embedding in enumerate(embeddings):\n",
    "        dist = distance.cosine(query_vector, embedding)\n",
    "        distances.append({\"distance\": dist, \"index\": index})\n",
    "    distances_sorted = sorted(distances, key=lambda x: x['distance'])\n",
    "    return distances_sorted[:n]\n",
    "        "
   ]
  },
  {
   "cell_type": "code",
   "execution_count": 78,
   "id": "e8db3be4-6f56-4a22-aef3-afa00aaa3c83",
   "metadata": {},
   "outputs": [
    {
     "name": "stdout",
     "output_type": "stream",
     "text": [
      "vampire\n",
      "tiger\n"
     ]
    }
   ],
   "source": [
    "hits = find_n_closest(search_embedding, embeddings, n=2)\n",
    "\n",
    "for hit in hits:\n",
    "    thing = things[hit['index']]\n",
    "    print(thing)"
   ]
  },
  {
   "cell_type": "code",
   "execution_count": null,
   "id": "dab17b18-c42e-4604-8cfd-e0276e74937c",
   "metadata": {},
   "outputs": [],
   "source": [
    "fruits = ['grapes', 'apple', 'orange']"
   ]
  }
 ],
 "metadata": {
  "kernelspec": {
   "display_name": "Python 3 (ipykernel)",
   "language": "python",
   "name": "python3"
  },
  "language_info": {
   "codemirror_mode": {
    "name": "ipython",
    "version": 3
   },
   "file_extension": ".py",
   "mimetype": "text/x-python",
   "name": "python",
   "nbconvert_exporter": "python",
   "pygments_lexer": "ipython3",
   "version": "3.12.7"
  }
 },
 "nbformat": 4,
 "nbformat_minor": 5
}
